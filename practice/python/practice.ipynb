{
 "cells": [
  {
   "cell_type": "code",
   "execution_count": 43,
   "id": "afe233f0-de71-4be6-ba1b-af20ea499b35",
   "metadata": {},
   "outputs": [],
   "source": [
    "#exercise 문자열"
   ]
  },
  {
   "cell_type": "code",
   "execution_count": 29,
   "id": "3afd3a96-74ed-4d59-b3e6-65c2cf895b13",
   "metadata": {},
   "outputs": [],
   "source": [
    "article = \"\"\"Congratulations to Chelsea and Roman Abramovich on completing the set of club trophies on the Russian’s watch with victory in the Club World Cup.\n",
    "\n",
    "It is a fantastic achievement.\n",
    "\n",
    "But let’s not forget it is an achievement which has come at a cost of roughly £5billion, a sum that has done as much to overheat and distort the global football market as any other.\n",
    "\n",
    "In the National League, the fifth tier of English football, I know of a team paying £7,000 a week to a player in order to ‘compete’.\"\"\""
   ]
  },
  {
   "cell_type": "code",
   "execution_count": 41,
   "id": "3738182b-e17a-4730-8cfb-2cb832b1b184",
   "metadata": {},
   "outputs": [
    {
     "name": "stdout",
     "output_type": "stream",
     "text": [
      "C\n",
      ".\n"
     ]
    }
   ],
   "source": [
    "print (article[0])\n",
    "##해당하는 위치 문자열 출력\n",
    "print (article[-1])\n",
    "##-1,-2,-3...는 가장뒤에서 부터 순서대로"
   ]
  },
  {
   "cell_type": "code",
   "execution_count": 39,
   "id": "efb86411-7026-48bf-bcd5-1f44fbdab1ad",
   "metadata": {},
   "outputs": [
    {
     "name": "stdout",
     "output_type": "stream",
     "text": [
      "1\n",
      "494\n",
      "19\n",
      "Congratulations to Chelsea FC and Roman Abramovich on completing the set of club trophies on the Russian’s watch with victory in the Club World Cup.\n",
      "\n",
      "It is a fantastic achievement.\n",
      "\n",
      "But let’s not forget it is an achievement which has come at a cost of roughly £5billion, a sum that has done as much to overheat and distort the global football market as any other.\n",
      "\n",
      "In the National League, the fifth tier of English football, I know of a team paying £7,000 a week to a player in order to ‘compete’.\n"
     ]
    }
   ],
   "source": [
    "print (article.count(\"Chelsea\"))\n",
    "##몇번 나오는지\n",
    "print (len(article))\n",
    "##길이\n",
    "print (article.find(\"Chelsea\"))\n",
    "##몇번째 나오는지\n",
    "print (article.replace(\"Chelsea\", \"Chelsea FC\"))\n",
    "##단어교체\n"
   ]
  },
  {
   "cell_type": "code",
   "execution_count": 42,
   "id": "69f0e006-f7a3-476b-8669-54d27c5d583f",
   "metadata": {},
   "outputs": [],
   "source": [
    "string1 = \"pangryeol\""
   ]
  },
  {
   "cell_type": "code",
   "execution_count": 45,
   "id": "857ffa6d-d4d9-4ada-9469-70fb6ba39173",
   "metadata": {},
   "outputs": [
    {
     "name": "stdout",
     "output_type": "stream",
     "text": [
      "ngr\n"
     ]
    }
   ],
   "source": [
    "print (string1[2:5])\n",
    "##2번째 ~ (5-1)번째 "
   ]
  },
  {
   "cell_type": "code",
   "execution_count": 46,
   "id": "2390301b-2a5f-4939-8cd8-ce6dfeb449ea",
   "metadata": {},
   "outputs": [],
   "source": [
    "string2 = \"   pangryeol.  \""
   ]
  },
  {
   "cell_type": "code",
   "execution_count": 47,
   "id": "45e6945e-6d85-4fe4-be34-10035092771d",
   "metadata": {},
   "outputs": [
    {
     "name": "stdout",
     "output_type": "stream",
     "text": [
      "   pangryeol.  \n"
     ]
    },
    {
     "data": {
      "text/plain": [
       "'pangryeol.'"
      ]
     },
     "execution_count": 47,
     "metadata": {},
     "output_type": "execute_result"
    }
   ],
   "source": [
    "print (string2)\n",
    "string2.strip()\n",
    "##문자열에서 제거하고자 하는 부분 제거"
   ]
  },
  {
   "cell_type": "code",
   "execution_count": 55,
   "id": "37c2f56e-f5f3-4950-a06b-94d8e6c79202",
   "metadata": {},
   "outputs": [
    {
     "name": "stdout",
     "output_type": "stream",
     "text": [
      "My name is Gwangryeol I'm 26 years old.\n"
     ]
    }
   ],
   "source": [
    "print (\"My name is {1} I'm {0} years old.\".format(26, \"Gwangryeol\"))\n",
    "## 빈칸 뚫린칸에 숫자는 format에 순서를 이야기하는 것이며, format을 통하여 순서에 맞게 넣을 수 있다"
   ]
  },
  {
   "cell_type": "code",
   "execution_count": 57,
   "id": "ca1361e4-fc93-4f8c-af3c-2a03f9b8f9b1",
   "metadata": {},
   "outputs": [
    {
     "name": "stdout",
     "output_type": "stream",
     "text": [
      "0.12\n"
     ]
    }
   ],
   "source": [
    "num = 0.1234\n",
    "print(format(num,\".2f\"))\n",
    "## num 을 소수 둘째자리 까지만 "
   ]
  },
  {
   "cell_type": "markdown",
   "id": "8d22bafa-a27c-49aa-9dae-feff79a9828d",
   "metadata": {},
   "source": [
    "#Exercise"
   ]
  },
  {
   "cell_type": "code",
   "execution_count": 67,
   "id": "4d6af153-4cde-414f-8eec-f775234c0aa5",
   "metadata": {},
   "outputs": [
    {
     "name": "stdout",
     "output_type": "stream",
     "text": [
      "3.1\n"
     ]
    }
   ],
   "source": [
    "num = 3.1415\n",
    "print(format(num,\".1f\"))"
   ]
  },
  {
   "cell_type": "code",
   "execution_count": 68,
   "id": "b4235055-f7e8-4e7b-9412-12fe1c040ef1",
   "metadata": {},
   "outputs": [
    {
     "name": "stdout",
     "output_type": "stream",
     "text": [
      "720\n",
      "100\n"
     ]
    }
   ],
   "source": [
    "num1 = '720'\n",
    "print(int(num1))\n",
    "num2 = 100\n",
    "print(str(num2))"
   ]
  },
  {
   "cell_type": "code",
   "execution_count": 69,
   "id": "911babef-95fc-44fd-8f9c-e26603d36f42",
   "metadata": {},
   "outputs": [
    {
     "name": "stdout",
     "output_type": "stream",
     "text": [
      "36\n"
     ]
    }
   ],
   "source": [
    "num1 = 6\n",
    "num2 = 2\n",
    "print(num1**num2)"
   ]
  },
  {
   "cell_type": "code",
   "execution_count": 78,
   "id": "2854a6f4-30a9-46a4-8985-78e4d77f8beb",
   "metadata": {},
   "outputs": [
    {
     "name": "stdin",
     "output_type": "stream",
     "text": [
      " 2\n",
      " 4\n"
     ]
    },
    {
     "name": "stdout",
     "output_type": "stream",
     "text": [
      "6\n"
     ]
    }
   ],
   "source": [
    "num1 = int(input())\n",
    "num2 = int(input())\n",
    "print(num1+num2)\n"
   ]
  },
  {
   "cell_type": "code",
   "execution_count": 91,
   "id": "542b46fb-cb8d-4975-ab06-a07e87996c81",
   "metadata": {},
   "outputs": [
    {
     "name": "stdin",
     "output_type": "stream",
     "text": [
      " 5\n",
      " 4\n"
     ]
    },
    {
     "name": "stdout",
     "output_type": "stream",
     "text": [
      "5+4=9\n",
      "20\n",
      "1.2\n",
      "1\n",
      "1\n"
     ]
    }
   ],
   "source": [
    "num1 = int(input())\n",
    "num2 = int(input())\n",
    "if num1>0 and num2>0:\n",
    "    print(\"{}+{}={}\".format(num1,num2,num1+num2))\n",
    "    print(num1*num2)\n",
    "    print(format(num1/num2,\"0.1f\"))\n",
    "    print(num1//num2)\n",
    "    print(num1%num2)\n",
    "else:\n",
    "    print(\"error\")"
   ]
  },
  {
   "cell_type": "code",
   "execution_count": 18,
   "id": "63d7c1a1-108a-4105-b6df-b1a29af61284",
   "metadata": {},
   "outputs": [],
   "source": [
    "location=[1,2,3,4]"
   ]
  },
  {
   "cell_type": "code",
   "execution_count": 19,
   "id": "b1176ac6-6f9b-4128-ab63-81eee7fcbf4e",
   "metadata": {},
   "outputs": [],
   "source": [
    "location.append(6)\n",
    "##항목 추가(가장뒷쪽으로, 단 하나)\n",
    "location.insert(1, 100)\n",
    "##1번 위치에 100 추가"
   ]
  },
  {
   "cell_type": "code",
   "execution_count": 20,
   "id": "5b561895-50d3-410e-abbc-7bec4ed1a73f",
   "metadata": {},
   "outputs": [
    {
     "name": "stdout",
     "output_type": "stream",
     "text": [
      "[1, 100, 2, 3, 4, 6]\n"
     ]
    }
   ],
   "source": [
    "print(location)\n"
   ]
  },
  {
   "cell_type": "code",
   "execution_count": 21,
   "id": "5d122495-3c7c-4047-a084-dd5d2ca325a9",
   "metadata": {},
   "outputs": [],
   "source": [
    "location.remove(3) \n",
    "##or del location()"
   ]
  },
  {
   "cell_type": "code",
   "execution_count": 22,
   "id": "59653774-f094-428f-b0c1-45f3f22322cc",
   "metadata": {},
   "outputs": [
    {
     "name": "stdout",
     "output_type": "stream",
     "text": [
      "[1, 100, 2, 4, 6]\n"
     ]
    }
   ],
   "source": [
    "print(location)"
   ]
  },
  {
   "cell_type": "code",
   "execution_count": 23,
   "id": "ead95827-4f4d-46cb-97e5-3ccfcf181511",
   "metadata": {},
   "outputs": [],
   "source": [
    "location=list()\n",
    "location.append('a')"
   ]
  },
  {
   "cell_type": "code",
   "execution_count": 26,
   "id": "7f23b5db-769f-4600-8e59-d0222cddfd89",
   "metadata": {},
   "outputs": [
    {
     "data": {
      "text/plain": [
       "'a'"
      ]
     },
     "execution_count": 26,
     "metadata": {},
     "output_type": "execute_result"
    }
   ],
   "source": [
    "location[0]"
   ]
  },
  {
   "cell_type": "code",
   "execution_count": 27,
   "id": "3c7b0ad9-262d-4265-a8ef-2405ea6bda87",
   "metadata": {},
   "outputs": [],
   "source": [
    "lang=[\"java\",\"c\",\"c++\"]"
   ]
  },
  {
   "cell_type": "code",
   "execution_count": 31,
   "id": "e4d9754e-e82a-409c-ba84-f9e75f3b196e",
   "metadata": {},
   "outputs": [],
   "source": [
    "lang.append(\"golang\")"
   ]
  },
  {
   "cell_type": "code",
   "execution_count": 32,
   "id": "408fcd67-cf9f-4524-a51c-092886934184",
   "metadata": {},
   "outputs": [
    {
     "name": "stdout",
     "output_type": "stream",
     "text": [
      "['java', 'c', 'c++', 'c++', 'golang']\n"
     ]
    }
   ],
   "source": [
    "print(lang)"
   ]
  },
  {
   "cell_type": "code",
   "execution_count": 33,
   "id": "b864ab13-29d0-4ca1-a2cb-029debe1af9b",
   "metadata": {},
   "outputs": [],
   "source": [
    "##list.sort() : 오름차순\n",
    "##list.reverse() : 내림차순"
   ]
  },
  {
   "cell_type": "code",
   "execution_count": 34,
   "id": "e926dc2a-f738-41bf-acbc-459e428364fc",
   "metadata": {},
   "outputs": [],
   "source": [
    "string=\"My name is Gwangryeol-Lee\"\n",
    "string=string.split()"
   ]
  },
  {
   "cell_type": "code",
   "execution_count": 35,
   "id": "2d5e4264-6e35-4392-93e5-4967e24a6b61",
   "metadata": {},
   "outputs": [
    {
     "name": "stdout",
     "output_type": "stream",
     "text": [
      "['My', 'name', 'is', 'Gwangryeol-Lee']\n"
     ]
    }
   ],
   "source": [
    "print(string)"
   ]
  },
  {
   "cell_type": "code",
   "execution_count": 36,
   "id": "03ccf7dd-0e33-458e-8ff8-83756feb85bd",
   "metadata": {},
   "outputs": [],
   "source": [
    "#조건문"
   ]
  },
  {
   "cell_type": "code",
   "execution_count": 41,
   "id": "9c73902e-b55b-4d3f-8e8a-9ed511921bc3",
   "metadata": {},
   "outputs": [
    {
     "name": "stdin",
     "output_type": "stream",
     "text": [
      "age 19\n"
     ]
    },
    {
     "name": "stdout",
     "output_type": "stream",
     "text": [
      "Adult\n"
     ]
    }
   ],
   "source": [
    "age=int(input(\"age\"))\n",
    "if age>=19:\n",
    "    print(\"Adult\")\n",
    "else :\n",
    "    print(\"Kid\")"
   ]
  },
  {
   "cell_type": "code",
   "execution_count": 44,
   "id": "9b7513f1-9c84-4cf8-a570-bdc520ba9901",
   "metadata": {},
   "outputs": [
    {
     "name": "stdin",
     "output_type": "stream",
     "text": [
      "보유금액: 10000\n"
     ]
    },
    {
     "name": "stdout",
     "output_type": "stream",
     "text": [
      "햄버거집 선택가능\n"
     ]
    }
   ],
   "source": [
    "cash=int(input(\"보유금액:\"))\n",
    "if cash>10000:\n",
    "    print(\"레스토랑 선택가능\")\n",
    "elif cash>5000 and cash<=10000:\n",
    "    print(\"햄버거집 선택가능\")\n",
    "else:\n",
    "    print(\"유감\")\n"
   ]
  },
  {
   "cell_type": "code",
   "execution_count": 47,
   "id": "d748e53e-761c-49d0-9f7f-3e2957cab66d",
   "metadata": {},
   "outputs": [
    {
     "name": "stdin",
     "output_type": "stream",
     "text": [
      "나이: 2\n"
     ]
    },
    {
     "name": "stdout",
     "output_type": "stream",
     "text": [
      "유아\n"
     ]
    }
   ],
   "source": [
    "age=int(input(\"나이:\"))\n",
    "if age>=19 :\n",
    "    print(\"성인\")\n",
    "elif age>=13 and age<19:\n",
    "    print(\"청소년\")\n",
    "elif age>=5 and age<13:\n",
    "    print(\"아동\")\n",
    "else :\n",
    "    print(\"유아\")\n"
   ]
  },
  {
   "cell_type": "code",
   "execution_count": 53,
   "id": "0df8c102-56dd-4605-ab6c-2a99e1b0566c",
   "metadata": {},
   "outputs": [
    {
     "name": "stdin",
     "output_type": "stream",
     "text": [
      "첫번째숫자 10\n",
      "두번째숫자 20\n"
     ]
    },
    {
     "name": "stdout",
     "output_type": "stream",
     "text": [
      "두번째 숫자가 더 큽니다\n"
     ]
    }
   ],
   "source": [
    "num1 = int(input(\"첫번째숫자\"))\n",
    "num2 = int(input(\"두번째숫자\"))\n",
    "if num1>num2:\n",
    "    print(\"첫번째 숫자가 더 큽니다\")\n",
    "elif num1==num2:\n",
    "    print(\"같은 숫자 입니다.\")\n",
    "else :\n",
    "    print(\"두번째 숫자가 더 큽니다\")"
   ]
  },
  {
   "cell_type": "code",
   "execution_count": 54,
   "id": "25d6a7da-8a8f-4940-8f44-07735a5dadcf",
   "metadata": {},
   "outputs": [
    {
     "name": "stdin",
     "output_type": "stream",
     "text": [
      "입력 -3\n"
     ]
    },
    {
     "name": "stdout",
     "output_type": "stream",
     "text": [
      "음수입니다.\n"
     ]
    }
   ],
   "source": [
    "num=int(input(\"입력\"))\n",
    "if num>0:\n",
    "    if num%2==0:\n",
    "        print(\"짝수입니다.\")\n",
    "    else:\n",
    "        print(\"홀수입니다.\")\n",
    "elif num==0:\n",
    "    print(\"0입니다\")\n",
    "else:\n",
    "    print(\"음수입니다.\")"
   ]
  },
  {
   "cell_type": "code",
   "execution_count": 56,
   "id": "95fc98ff-7425-4b34-b9a6-17d724b79998",
   "metadata": {},
   "outputs": [
    {
     "name": "stdin",
     "output_type": "stream",
     "text": [
      "score: 80\n"
     ]
    },
    {
     "name": "stdout",
     "output_type": "stream",
     "text": [
      "B\n"
     ]
    }
   ],
   "source": [
    "score=int(input(\"score:\"))\n",
    "if score>100:\n",
    "    print(\"100점 만점의 시험입니다\")\n",
    "elif score<0:\n",
    "    print(\"0점이 최저 점수입니다.\")\n",
    "else:\n",
    "    if score>=81:\n",
    "        print(\"A\")\n",
    "    elif score>=61:\n",
    "        print(\"B\")\n",
    "    else :\n",
    "        print(\"C\")\n",
    "        "
   ]
  },
  {
   "cell_type": "code",
   "execution_count": null,
   "id": "b57500eb-3f7f-4c1a-9200-9dace220178f",
   "metadata": {},
   "outputs": [
    {
     "name": "stdin",
     "output_type": "stream",
     "text": [
      " 970411\n"
     ]
    },
    {
     "name": "stdout",
     "output_type": "stream",
     "text": [
      "출생년도: 97\n"
     ]
    }
   ],
   "source": [
    "data=input()\n",
    "print(\"출생년도:\",data[0:2])"
   ]
  },
  {
   "cell_type": "code",
   "execution_count": 59,
   "id": "8e1dee37-c888-47bd-8d6d-01bf4f3f5923",
   "metadata": {},
   "outputs": [
    {
     "name": "stdin",
     "output_type": "stream",
     "text": [
      "주민번호는? 970411-1677215\n"
     ]
    },
    {
     "name": "stdout",
     "output_type": "stream",
     "text": [
      "1\n"
     ]
    }
   ],
   "source": [
    "data = input(\"주민번호는?\")\n",
    "\n",
    "print (data.split(\"-\")[1][0])\n",
    "### split을 통하여 \"-\"를 지우고 문자열이 나누어지고 배열에 저장이된다. 그후 나누어진 문자열의 1번index에 저장된 문자열을 가져오고, 가져온 문자열의 0번 index위치의 문자를 출력\n"
   ]
  },
  {
   "cell_type": "code",
   "execution_count": 64,
   "id": "90a298ca-1832-457b-9017-d49b0a907e45",
   "metadata": {},
   "outputs": [
    {
     "name": "stdin",
     "output_type": "stream",
     "text": [
      "주민번호는?(-를 포함하여 적어주세요) 999999-2999999\n"
     ]
    },
    {
     "name": "stdout",
     "output_type": "stream",
     "text": [
      "여성\n"
     ]
    }
   ],
   "source": [
    "data = input(\"주민번호는?(-를 포함하여 적어주세요)\")\n",
    "if data[6]==\"-\":\n",
    "    if data[7]=='1' or data[7]=='3':\n",
    "        print(\"남성\")\n",
    "    elif data[7]=='2' or data[7]=='4':\n",
    "        print(\"여성\")\n",
    "    else :\n",
    "        print(\"error\")\n",
    "else :\n",
    "    print(\"조건을 확인하세요\")"
   ]
  },
  {
   "cell_type": "code",
   "execution_count": 65,
   "id": "6ffa53cf-d6ef-4fb9-86ac-2539ce046829",
   "metadata": {},
   "outputs": [
    {
     "name": "stdout",
     "output_type": "stream",
     "text": [
      "a man goes into the room\n"
     ]
    }
   ],
   "source": [
    "mystr = \"a man goes into the room...\"\n",
    "print(mystr.strip(\".\"))"
   ]
  },
  {
   "cell_type": "code",
   "execution_count": 69,
   "id": "b056af2e-824c-4bef-815a-d7e12aa163b9",
   "metadata": {},
   "outputs": [
    {
     "name": "stdout",
     "output_type": "stream",
     "text": [
      "66\n"
     ]
    }
   ],
   "source": [
    "code = '         000660\\n            '\n",
    "print(code.strip(\" 0\\n\"))"
   ]
  },
  {
   "cell_type": "code",
   "execution_count": 71,
   "id": "f8c5cc0e-ebdf-43c5-bb73-b42bc50823d5",
   "metadata": {},
   "outputs": [
    {
     "name": "stdout",
     "output_type": "stream",
     "text": [
      "2\n"
     ]
    }
   ],
   "source": [
    "python_desc = \"Python is an interpreted high-level programming language for general-purpose programming. Created by Guido van Rossum and first released in 1991, Python has a design philosophy that emphasizes code readability, notably using significant whitespace.\"\n",
    "print(python_desc.count(\"Python\"))"
   ]
  },
  {
   "cell_type": "code",
   "execution_count": 72,
   "id": "c9c7bbeb-40ba-4305-ba6a-25d4c86c0c74",
   "metadata": {},
   "outputs": [
    {
     "name": "stdin",
     "output_type": "stream",
     "text": [
      " asdfasdfasdfasdfnasdfad\n"
     ]
    },
    {
     "name": "stdout",
     "output_type": "stream",
     "text": [
      "0\n"
     ]
    }
   ],
   "source": [
    "string=str(input())\n",
    "var = string.find(\"n\")\n",
    "if var>=1:\n",
    "    print(\"0\")\n",
    "else:\n",
    "    print(\"-1\")\n",
    "    "
   ]
  },
  {
   "cell_type": "code",
   "execution_count": 75,
   "id": "0ccef158-d05c-450a-8808-95326bede0ad",
   "metadata": {},
   "outputs": [
    {
     "name": "stdin",
     "output_type": "stream",
     "text": [
      "주민등록번호를 입력하세요 ( 단, - 를 포함하여 작성해주세요) 970411-111111\n"
     ]
    },
    {
     "name": "stdout",
     "output_type": "stream",
     "text": [
      "11\n",
      "출생지:부산\n"
     ]
    }
   ],
   "source": [
    "data=input(\"주민등록번호를 입력하세요 ( 단, - 를 포함하여 작성해주세요)\")\n",
    "data_digit=int(data[9:11])\n",
    "print(data_digit)\n",
    "if data_digit>=0 and data_digit<=8:\n",
    "    print(\"출생지:서울\")\n",
    "elif data_digit>=9 and data_digit<=12:\n",
    "    print(\"출생지:부산\")\n",
    "else :\n",
    "    print(\"기타\")"
   ]
  },
  {
   "cell_type": "code",
   "execution_count": 76,
   "id": "01dcb268-1034-4f66-9959-d2350253a299",
   "metadata": {},
   "outputs": [
    {
     "name": "stdin",
     "output_type": "stream",
     "text": [
      "과일종류를 ','를 포함하여 작성해주세요. 사과, 바나나, 딸기\n"
     ]
    },
    {
     "name": "stdout",
     "output_type": "stream",
     "text": [
      "과일종류 : ['사과', ' 바나나', ' 딸기']\n"
     ]
    }
   ],
   "source": [
    "string=input(\"과일종류를 ','를 포함하여 작성해주세요.\")\n",
    "print(\"과일종류 :\",string.split(','))\n"
   ]
  },
  {
   "cell_type": "code",
   "execution_count": 82,
   "id": "3c67fc8b-c928-4cac-9368-8a4cda3164be",
   "metadata": {},
   "outputs": [
    {
     "name": "stdin",
     "output_type": "stream",
     "text": [
      "Filename =  dfasdfasdf.ppt\n"
     ]
    },
    {
     "name": "stdout",
     "output_type": "stream",
     "text": [
      "확장자 : ppt\n"
     ]
    }
   ],
   "source": [
    "string=input(\"Filename = \")\n",
    "str_list=string.split(\".\")\n",
    "print(\"확장자 :\",str_list[1])"
   ]
  },
  {
   "cell_type": "code",
   "execution_count": 83,
   "id": "fd2b1418-2759-4e80-ab27-77fec9de7537",
   "metadata": {},
   "outputs": [],
   "source": [
    "#반복문"
   ]
  },
  {
   "cell_type": "code",
   "execution_count": 84,
   "id": "2d0410e9-4d40-4360-8190-ba29490eff71",
   "metadata": {},
   "outputs": [
    {
     "name": "stdout",
     "output_type": "stream",
     "text": [
      "a\n",
      "b\n",
      "c\n"
     ]
    }
   ],
   "source": [
    "for i in [\"a\",\"b\",\"c\"]:\n",
    "    print(i)"
   ]
  },
  {
   "cell_type": "code",
   "execution_count": 86,
   "id": "6461ced4-e456-4b57-a1af-7be80736c608",
   "metadata": {},
   "outputs": [
    {
     "name": "stdout",
     "output_type": "stream",
     "text": [
      "0\n",
      "1\n",
      "2\n"
     ]
    }
   ],
   "source": [
    "for i in range(3):\n",
    "    print(i)"
   ]
  },
  {
   "cell_type": "code",
   "execution_count": 89,
   "id": "737b78b7-a6cf-4220-a34b-f43d78dcd7bd",
   "metadata": {},
   "outputs": [
    {
     "name": "stdout",
     "output_type": "stream",
     "text": [
      "55\n"
     ]
    }
   ],
   "source": [
    "sum = 0\n",
    "for i in range(1,11):\n",
    "    sum += i\n",
    "print(sum)"
   ]
  },
  {
   "cell_type": "code",
   "execution_count": 93,
   "id": "5a69e3fe-debf-4cb4-b9ba-e3575661d482",
   "metadata": {},
   "outputs": [
    {
     "name": "stdin",
     "output_type": "stream",
     "text": [
      " 3\n"
     ]
    },
    {
     "name": "stdout",
     "output_type": "stream",
     "text": [
      "3 * 1 = 3\n",
      "3 * 2 = 6\n",
      "3 * 3 = 9\n",
      "3 * 4 = 12\n",
      "3 * 5 = 15\n",
      "3 * 6 = 18\n",
      "3 * 7 = 21\n",
      "3 * 8 = 24\n",
      "3 * 9 = 27\n"
     ]
    }
   ],
   "source": [
    "data=int(input())\n",
    "if data>=2 and data<=9:\n",
    "    for i in range(1,10):\n",
    "        print(data,\"*\",i,\"=\",data*i)\n",
    "else:\n",
    "    print(\"2~9를 입력하세요\")"
   ]
  },
  {
   "cell_type": "code",
   "execution_count": 95,
   "id": "68045d38-fd0c-4e99-8115-c7785f2b7628",
   "metadata": {},
   "outputs": [
    {
     "name": "stdin",
     "output_type": "stream",
     "text": [
      "여러 이름을 ','을 포함하여 입력하세요 dad,fsd,sdfa\n"
     ]
    },
    {
     "name": "stdout",
     "output_type": "stream",
     "text": [
      "dad\n",
      "fsd\n",
      "sdfa\n"
     ]
    }
   ],
   "source": [
    "string=input(\"여러 이름을 ','을 포함하여 입력하세요\")\n",
    "string_data=string.split(\",\")\n",
    "for i in string_data:\n",
    "    print(i)\n",
    "    "
   ]
  },
  {
   "cell_type": "code",
   "execution_count": 102,
   "id": "8d6cf941-268a-46e8-970a-07cbfaa0f35d",
   "metadata": {},
   "outputs": [
    {
     "name": "stdin",
     "output_type": "stream",
     "text": [
      "방문자를 기재하세요 (대괄호를 쓰거나 그냥 콤마를 이용하여 나누어주세요) [ㅁㄴㅇㄹ],ㄹㅁㄴㅇㄹ,[ㄹㅁㄴㅇㄹㅁㄴㅇㄹ]\n"
     ]
    },
    {
     "name": "stdout",
     "output_type": "stream",
     "text": [
      "ㅁㄴㅇㄹ\n",
      "ㄹㅁㄴㅇㄹ\n",
      "ㄹㅁㄴㅇㄹㅁㄴㅇㄹ\n"
     ]
    }
   ],
   "source": [
    "string=input(\"방문자를 기재하세요 (대괄호를 쓰거나 그냥 콤마를 이용하여 나누어주세요)\")\n",
    "for str_list in string.split(\",\"):\n",
    "    if str_list[0]==\"[\" and str_list[-1]==\"]\":\n",
    "        print(str_list[1:-1])\n",
    "    elif str_list[0]!=\"[\" and str_list[-1]!=\"]\":\n",
    "        print(str_list)"
   ]
  },
  {
   "cell_type": "code",
   "execution_count": 110,
   "id": "5600a684-fb23-43a1-9118-118e91d53df0",
   "metadata": {},
   "outputs": [
    {
     "name": "stdin",
     "output_type": "stream",
     "text": [
      "1~n까지의 숫자 중에 3의 배수만 출력합니다. n을 설정하여주세요 -1\n"
     ]
    },
    {
     "name": "stdout",
     "output_type": "stream",
     "text": [
      "정수를 입력하여 주세요\n"
     ]
    }
   ],
   "source": [
    "num=int(input(\"1~n까지의 숫자 중에 3의 배수만 출력합니다. n을 설정하여주세요\"))\n",
    "if num>=1:\n",
    "    for i in range(num):\n",
    "        if (i+1)%3==0:\n",
    "            print(i+1)\n",
    "else :\n",
    "    print(\"정수를 입력하여 주세요\")"
   ]
  },
  {
   "cell_type": "code",
   "execution_count": 121,
   "id": "1c627473-8400-4503-962e-192b39ec488a",
   "metadata": {},
   "outputs": [
    {
     "name": "stdin",
     "output_type": "stream",
     "text": [
      "1~n까지의 모든숫자의 합을 구합니다. n을 설정하여 주세요. : 10\n"
     ]
    },
    {
     "name": "stdout",
     "output_type": "stream",
     "text": [
      "55\n"
     ]
    }
   ],
   "source": [
    "num=int(input(\"1~n까지의 모든숫자의 합을 구합니다. n을 설정하여 주세요. :\"))\n",
    "num_digit=num\n",
    "sum_num=0\n",
    "if num>=1:\n",
    "    while num_digit>=1:\n",
    "        sum_num=sum_num+num_digit\n",
    "        num_digit=num_digit-1\n",
    "print(sum_num)"
   ]
  },
  {
   "cell_type": "code",
   "execution_count": 123,
   "id": "8d7299b2-01da-489e-88ec-c29a290d6db5",
   "metadata": {},
   "outputs": [
    {
     "name": "stdin",
     "output_type": "stream",
     "text": [
      " 4111\n"
     ]
    },
    {
     "name": "stdout",
     "output_type": "stream",
     "text": [
      "틀렸습니다. 다시 입력하여 주세요.\n"
     ]
    },
    {
     "name": "stdin",
     "output_type": "stream",
     "text": [
      " 4312\n"
     ]
    },
    {
     "name": "stdout",
     "output_type": "stream",
     "text": [
      "정답\n"
     ]
    }
   ],
   "source": [
    "pwd=int(input())\n",
    "while 1:\n",
    "    if pwd==4312:\n",
    "        print(\"정답\")\n",
    "        break\n",
    "    else :\n",
    "        print(\"틀렸습니다. 다시 입력하여 주세요.\")\n",
    "        pwd=int(input())\n",
    "        \n",
    "    "
   ]
  },
  {
   "cell_type": "code",
   "execution_count": 124,
   "id": "ac870314-d36e-4e9e-b798-8ef3e588afe4",
   "metadata": {},
   "outputs": [
    {
     "name": "stdin",
     "output_type": "stream",
     "text": [
      " 4312\n"
     ]
    },
    {
     "name": "stdout",
     "output_type": "stream",
     "text": [
      "비밀번호가 맞습니다.\n"
     ]
    }
   ],
   "source": [
    "data = input()\n",
    "\n",
    "while data != '4312':\n",
    "    print ('비밀번호가 틀렸습니다.')\n",
    "    data = input()\n",
    "\n",
    "print (\"비밀번호가 맞습니다.\")\n"
   ]
  },
  {
   "cell_type": "code",
   "execution_count": 139,
   "id": "7eef483c-2127-4ff3-83f0-26bfa9ad1676",
   "metadata": {},
   "outputs": [
    {
     "name": "stdin",
     "output_type": "stream",
     "text": [
      "숫자(정수)를 , 를 포함하여 입력하세요 1,2,3,4,5,100,-12341234\n"
     ]
    },
    {
     "name": "stdout",
     "output_type": "stream",
     "text": [
      "[1, 2, 3, 4, 5, 100]\n"
     ]
    }
   ],
   "source": [
    "string=input(\"숫자(정수)를 , 를 포함하여 입력하세요\")\n",
    "string_list=string.split(\",\")\n",
    "num_list=list(map(int,string_list))\n",
    "plus_list=list()\n",
    "for i in num_list:\n",
    "    if i>=0:\n",
    "        plus_list.append(i)\n",
    "print(plus_list)"
   ]
  },
  {
   "cell_type": "code",
   "execution_count": null,
   "id": "be03dd5d-9bcf-4b25-80fd-1867018aeaa8",
   "metadata": {},
   "outputs": [
    {
     "name": "stdin",
     "output_type": "stream",
     "text": [
      "글자길이 측정(각 항목을 ','를 활용하여 띄워주세요) asdfasdf,fasdfadfasdfdsfa,as,asd\n"
     ]
    },
    {
     "name": "stdout",
     "output_type": "stream",
     "text": [
      "asdfasdf : 8 글자\n",
      "fasdfadfasdfdsfa : 16 글자\n",
      "as : 2 글자\n",
      "asd : 3 글자\n"
     ]
    }
   ],
   "source": [
    "string=input(\"글자길이 측정(각 항목을 ','를 활용하여 띄워주세요)\")\n",
    "str_list=string.split(\",\")\n",
    "for len_data in str_list:\n",
    "    print(len_data,\":\",len(len_data),\"글자\")"
   ]
  },
  {
   "cell_type": "code",
   "execution_count": 144,
   "id": "0352b981-f6d7-4004-b1a4-43e646d44e99",
   "metadata": {},
   "outputs": [
    {
     "name": "stdin",
     "output_type": "stream",
     "text": [
      "파일명.확장자(각 항목을 ','를 활용하여 띄워주세요) asdfas.pdf,asdf.txt,fasdfasdf.ppt,asd.txt\n"
     ]
    },
    {
     "name": "stdout",
     "output_type": "stream",
     "text": [
      "['asdf.txt', 'asd.txt']\n"
     ]
    }
   ],
   "source": [
    "string=input(\"파일명.확장자(각 항목을 ','를 활용하여 띄워주세요)\")\n",
    "str_list=string.split(\",\")\n",
    "ext_list=list()\n",
    "for ext in str_list:\n",
    "    if ext.split(\".\")[1]==\"txt\":\n",
    "        ext_list.append(ext)\n",
    "print(ext_list)"
   ]
  },
  {
   "cell_type": "code",
   "execution_count": 146,
   "id": "2119268e-feab-40eb-b249-45e8b0dcbb6d",
   "metadata": {},
   "outputs": [],
   "source": [
    "###튜플은 선언한 데이터 추가, 삭제, 수정 불가능! 다만 튜플안에 데이터를 곱하고 더하고는 가능, 또한 튜플끼리 더하는것도 가능"
   ]
  },
  {
   "cell_type": "code",
   "execution_count": null,
   "id": "427f332a-a4b9-446f-8a16-12cffd85bab4",
   "metadata": {},
   "outputs": [],
   "source": []
  }
 ],
 "metadata": {
  "kernelspec": {
   "display_name": "Python 3 (ipykernel)",
   "language": "python",
   "name": "python3"
  },
  "language_info": {
   "codemirror_mode": {
    "name": "ipython",
    "version": 3
   },
   "file_extension": ".py",
   "mimetype": "text/x-python",
   "name": "python",
   "nbconvert_exporter": "python",
   "pygments_lexer": "ipython3",
   "version": "3.9.7"
  }
 },
 "nbformat": 4,
 "nbformat_minor": 5
}

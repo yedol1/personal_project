{
 "cells": [
  {
   "cell_type": "markdown",
   "id": "1de42ca2-32e8-40b2-a9c4-5f25b5fbefa4",
   "metadata": {},
   "source": [
    "exercise"
   ]
  },
  {
   "cell_type": "code",
   "execution_count": 28,
   "id": "08035463-d30d-4424-8f88-681907de18d4",
   "metadata": {},
   "outputs": [
    {
     "name": "stdin",
     "output_type": "stream",
     "text": [
      " 3.1212\n"
     ]
    },
    {
     "name": "stdout",
     "output_type": "stream",
     "text": [
      "3\n"
     ]
    }
   ],
   "source": [
    "num = float(input())\n",
    "i = 1"
   ]
  },
  {
   "cell_type": "code",
   "execution_count": null,
   "id": "3afd3a96-74ed-4d59-b3e6-65c2cf895b13",
   "metadata": {},
   "outputs": [],
   "source": []
  }
 ],
 "metadata": {
  "kernelspec": {
   "display_name": "Python 3 (ipykernel)",
   "language": "python",
   "name": "python3"
  },
  "language_info": {
   "codemirror_mode": {
    "name": "ipython",
    "version": 3
   },
   "file_extension": ".py",
   "mimetype": "text/x-python",
   "name": "python",
   "nbconvert_exporter": "python",
   "pygments_lexer": "ipython3",
   "version": "3.9.7"
  }
 },
 "nbformat": 4,
 "nbformat_minor": 5
}

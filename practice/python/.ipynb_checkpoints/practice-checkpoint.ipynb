{
 "cells": [
  {
   "cell_type": "code",
   "execution_count": 43,
   "id": "afe233f0-de71-4be6-ba1b-af20ea499b35",
   "metadata": {},
   "outputs": [],
   "source": [
    "#exercise 문자열"
   ]
  },
  {
   "cell_type": "code",
   "execution_count": 29,
   "id": "3afd3a96-74ed-4d59-b3e6-65c2cf895b13",
   "metadata": {},
   "outputs": [],
   "source": [
    "article = \"\"\"Congratulations to Chelsea and Roman Abramovich on completing the set of club trophies on the Russian’s watch with victory in the Club World Cup.\n",
    "\n",
    "It is a fantastic achievement.\n",
    "\n",
    "But let’s not forget it is an achievement which has come at a cost of roughly £5billion, a sum that has done as much to overheat and distort the global football market as any other.\n",
    "\n",
    "In the National League, the fifth tier of English football, I know of a team paying £7,000 a week to a player in order to ‘compete’.\"\"\""
   ]
  },
  {
   "cell_type": "code",
   "execution_count": 41,
   "id": "3738182b-e17a-4730-8cfb-2cb832b1b184",
   "metadata": {},
   "outputs": [
    {
     "name": "stdout",
     "output_type": "stream",
     "text": [
      "C\n",
      ".\n"
     ]
    }
   ],
   "source": [
    "print (article[0])\n",
    "##해당하는 위치 문자열 출력\n",
    "print (article[-1])\n",
    "##-1,-2,-3...는 가장뒤에서 부터 순서대로"
   ]
  },
  {
   "cell_type": "code",
   "execution_count": 39,
   "id": "efb86411-7026-48bf-bcd5-1f44fbdab1ad",
   "metadata": {},
   "outputs": [
    {
     "name": "stdout",
     "output_type": "stream",
     "text": [
      "1\n",
      "494\n",
      "19\n",
      "Congratulations to Chelsea FC and Roman Abramovich on completing the set of club trophies on the Russian’s watch with victory in the Club World Cup.\n",
      "\n",
      "It is a fantastic achievement.\n",
      "\n",
      "But let’s not forget it is an achievement which has come at a cost of roughly £5billion, a sum that has done as much to overheat and distort the global football market as any other.\n",
      "\n",
      "In the National League, the fifth tier of English football, I know of a team paying £7,000 a week to a player in order to ‘compete’.\n"
     ]
    }
   ],
   "source": [
    "print (article.count(\"Chelsea\"))\n",
    "##몇번 나오는지\n",
    "print (len(article))\n",
    "##길이\n",
    "print (article.find(\"Chelsea\"))\n",
    "##몇번째 나오는지\n",
    "print (article.replace(\"Chelsea\", \"Chelsea FC\"))\n",
    "##단어교체\n"
   ]
  },
  {
   "cell_type": "code",
   "execution_count": 42,
   "id": "69f0e006-f7a3-476b-8669-54d27c5d583f",
   "metadata": {},
   "outputs": [],
   "source": [
    "string1 = \"pangryeol\""
   ]
  },
  {
   "cell_type": "code",
   "execution_count": 45,
   "id": "857ffa6d-d4d9-4ada-9469-70fb6ba39173",
   "metadata": {},
   "outputs": [
    {
     "name": "stdout",
     "output_type": "stream",
     "text": [
      "ngr\n"
     ]
    }
   ],
   "source": [
    "print (string1[2:5])\n",
    "##2번째 ~ (5-1)번째 "
   ]
  },
  {
   "cell_type": "code",
   "execution_count": 46,
   "id": "2390301b-2a5f-4939-8cd8-ce6dfeb449ea",
   "metadata": {},
   "outputs": [],
   "source": [
    "string2 = \"   pangryeol.  \""
   ]
  },
  {
   "cell_type": "code",
   "execution_count": 47,
   "id": "45e6945e-6d85-4fe4-be34-10035092771d",
   "metadata": {},
   "outputs": [
    {
     "name": "stdout",
     "output_type": "stream",
     "text": [
      "   pangryeol.  \n"
     ]
    },
    {
     "data": {
      "text/plain": [
       "'pangryeol.'"
      ]
     },
     "execution_count": 47,
     "metadata": {},
     "output_type": "execute_result"
    }
   ],
   "source": [
    "print (string2)\n",
    "string2.strip()\n",
    "##문자열에서 제거하고자 하는 부분 제거"
   ]
  },
  {
   "cell_type": "code",
   "execution_count": 55,
   "id": "37c2f56e-f5f3-4950-a06b-94d8e6c79202",
   "metadata": {},
   "outputs": [
    {
     "name": "stdout",
     "output_type": "stream",
     "text": [
      "My name is Gwangryeol I'm 26 years old.\n"
     ]
    }
   ],
   "source": [
    "print (\"My name is {1} I'm {0} years old.\".format(26, \"Gwangryeol\"))\n",
    "## 빈칸 뚫린칸에 숫자는 format에 순서를 이야기하는 것이며, format을 통하여 순서에 맞게 넣을 수 있다"
   ]
  },
  {
   "cell_type": "code",
   "execution_count": 57,
   "id": "ca1361e4-fc93-4f8c-af3c-2a03f9b8f9b1",
   "metadata": {},
   "outputs": [
    {
     "name": "stdout",
     "output_type": "stream",
     "text": [
      "0.12\n"
     ]
    }
   ],
   "source": [
    "num = 0.1234\n",
    "print(format(num,\".2f\"))\n",
    "## num 을 소수 둘째자리 까지만 "
   ]
  },
  {
   "cell_type": "markdown",
   "id": "8d22bafa-a27c-49aa-9dae-feff79a9828d",
   "metadata": {},
   "source": [
    "#Exercise"
   ]
  },
  {
   "cell_type": "code",
   "execution_count": 67,
   "id": "4d6af153-4cde-414f-8eec-f775234c0aa5",
   "metadata": {},
   "outputs": [
    {
     "name": "stdout",
     "output_type": "stream",
     "text": [
      "3.1\n"
     ]
    }
   ],
   "source": [
    "num = 3.1415\n",
    "print(format(num,\".1f\"))"
   ]
  },
  {
   "cell_type": "code",
   "execution_count": 68,
   "id": "b4235055-f7e8-4e7b-9412-12fe1c040ef1",
   "metadata": {},
   "outputs": [
    {
     "name": "stdout",
     "output_type": "stream",
     "text": [
      "720\n",
      "100\n"
     ]
    }
   ],
   "source": [
    "num1 = '720'\n",
    "print(int(num1))\n",
    "num2 = 100\n",
    "print(str(num2))"
   ]
  },
  {
   "cell_type": "code",
   "execution_count": 69,
   "id": "911babef-95fc-44fd-8f9c-e26603d36f42",
   "metadata": {},
   "outputs": [
    {
     "name": "stdout",
     "output_type": "stream",
     "text": [
      "36\n"
     ]
    }
   ],
   "source": [
    "num1 = 6\n",
    "num2 = 2\n",
    "print(num1**num2)"
   ]
  },
  {
   "cell_type": "code",
   "execution_count": 78,
   "id": "2854a6f4-30a9-46a4-8985-78e4d77f8beb",
   "metadata": {},
   "outputs": [
    {
     "name": "stdin",
     "output_type": "stream",
     "text": [
      " 2\n",
      " 4\n"
     ]
    },
    {
     "name": "stdout",
     "output_type": "stream",
     "text": [
      "6\n"
     ]
    }
   ],
   "source": [
    "num1 = int(input())\n",
    "num2 = int(input())\n",
    "print(num1+num2)\n"
   ]
  },
  {
   "cell_type": "code",
   "execution_count": 91,
   "id": "542b46fb-cb8d-4975-ab06-a07e87996c81",
   "metadata": {},
   "outputs": [
    {
     "name": "stdin",
     "output_type": "stream",
     "text": [
      " 5\n",
      " 4\n"
     ]
    },
    {
     "name": "stdout",
     "output_type": "stream",
     "text": [
      "5+4=9\n",
      "20\n",
      "1.2\n",
      "1\n",
      "1\n"
     ]
    }
   ],
   "source": [
    "num1 = int(input())\n",
    "num2 = int(input())\n",
    "if num1>0 and num2>0:\n",
    "    print(\"{}+{}={}\".format(num1,num2,num1+num2))\n",
    "    print(num1*num2)\n",
    "    print(format(num1/num2,\"0.1f\"))\n",
    "    print(num1//num2)\n",
    "    print(num1%num2)\n",
    "else:\n",
    "    print(\"error\")"
   ]
  },
  {
   "cell_type": "code",
   "execution_count": null,
   "id": "63d7c1a1-108a-4105-b6df-b1a29af61284",
   "metadata": {},
   "outputs": [],
   "source": []
  }
 ],
 "metadata": {
  "kernelspec": {
   "display_name": "Python 3 (ipykernel)",
   "language": "python",
   "name": "python3"
  },
  "language_info": {
   "codemirror_mode": {
    "name": "ipython",
    "version": 3
   },
   "file_extension": ".py",
   "mimetype": "text/x-python",
   "name": "python",
   "nbconvert_exporter": "python",
   "pygments_lexer": "ipython3",
   "version": "3.9.7"
  }
 },
 "nbformat": 4,
 "nbformat_minor": 5
}
